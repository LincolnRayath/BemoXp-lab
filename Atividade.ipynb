{
 "cells": [
  {
   "cell_type": "markdown",
   "metadata": {},
   "source": [
    "# Lendo o arquivo e suas planilhas(sheets)"
   ]
  },
  {
   "cell_type": "code",
   "execution_count": 119,
   "metadata": {},
   "outputs": [
    {
     "name": "stdout",
     "output_type": "stream",
     "text": [
      "             Mes_1      Mes_2  Mes_3  Mes_4 Mes_5  Mes_6  Mes_7   Mes_8  \\\n",
      "NaN        janeiro  fevereiro  março  abril  maio  junho  julho  agosto   \n",
      "Realizado      240        280    200    310   230    213    239     210   \n",
      "\n",
      "              Mes_9   Mes_10    Mes_11    Mes_12  \n",
      "NaN        setembro  outubro  novembro  dezembro  \n",
      "Realizado       210      210       232       213  \n"
     ]
    },
    {
     "data": {
      "text/html": [
       "<div>\n",
       "<style scoped>\n",
       "    .dataframe tbody tr th:only-of-type {\n",
       "        vertical-align: middle;\n",
       "    }\n",
       "\n",
       "    .dataframe tbody tr th {\n",
       "        vertical-align: top;\n",
       "    }\n",
       "\n",
       "    .dataframe thead th {\n",
       "        text-align: right;\n",
       "    }\n",
       "</style>\n",
       "<table border=\"1\" class=\"dataframe\">\n",
       "  <thead>\n",
       "    <tr style=\"text-align: right;\">\n",
       "      <th></th>\n",
       "      <th>mês</th>\n",
       "      <th>orcado</th>\n",
       "    </tr>\n",
       "  </thead>\n",
       "  <tbody>\n",
       "    <tr>\n",
       "      <th>0</th>\n",
       "      <td>janeiro</td>\n",
       "      <td>330</td>\n",
       "    </tr>\n",
       "    <tr>\n",
       "      <th>1</th>\n",
       "      <td>fevereiro</td>\n",
       "      <td>290</td>\n",
       "    </tr>\n",
       "    <tr>\n",
       "      <th>2</th>\n",
       "      <td>março</td>\n",
       "      <td>230</td>\n",
       "    </tr>\n",
       "    <tr>\n",
       "      <th>3</th>\n",
       "      <td>abril</td>\n",
       "      <td>321</td>\n",
       "    </tr>\n",
       "    <tr>\n",
       "      <th>4</th>\n",
       "      <td>maio</td>\n",
       "      <td>283</td>\n",
       "    </tr>\n",
       "    <tr>\n",
       "      <th>5</th>\n",
       "      <td>junho</td>\n",
       "      <td>291</td>\n",
       "    </tr>\n",
       "    <tr>\n",
       "      <th>6</th>\n",
       "      <td>julho</td>\n",
       "      <td>193</td>\n",
       "    </tr>\n",
       "    <tr>\n",
       "      <th>7</th>\n",
       "      <td>agosto</td>\n",
       "      <td>259</td>\n",
       "    </tr>\n",
       "    <tr>\n",
       "      <th>8</th>\n",
       "      <td>setembro</td>\n",
       "      <td>289</td>\n",
       "    </tr>\n",
       "    <tr>\n",
       "      <th>9</th>\n",
       "      <td>outubro</td>\n",
       "      <td>230</td>\n",
       "    </tr>\n",
       "    <tr>\n",
       "      <th>10</th>\n",
       "      <td>novembro</td>\n",
       "      <td>434</td>\n",
       "    </tr>\n",
       "    <tr>\n",
       "      <th>11</th>\n",
       "      <td>dezembro</td>\n",
       "      <td>421</td>\n",
       "    </tr>\n",
       "  </tbody>\n",
       "</table>\n",
       "</div>"
      ],
      "text/plain": [
       "          mês  orcado\n",
       "0     janeiro     330\n",
       "1   fevereiro     290\n",
       "2       março     230\n",
       "3       abril     321\n",
       "4        maio     283\n",
       "5       junho     291\n",
       "6       julho     193\n",
       "7      agosto     259\n",
       "8    setembro     289\n",
       "9     outubro     230\n",
       "10   novembro     434\n",
       "11   dezembro     421"
      ]
     },
     "execution_count": 119,
     "metadata": {},
     "output_type": "execute_result"
    }
   ],
   "source": [
    "import pandas as pd\n",
    "\n",
    "arquivo = 'dados.xlsx'\n",
    "\n",
    "realizado = pd.read_excel(arquivo, sheet_name='realizado')\n",
    "orcado = pd.read_excel(arquivo, sheet_name='orcado')\n",
    "\n",
    "print(realizado)\n",
    "orcado.head(15)\n"
   ]
  },
  {
   "cell_type": "markdown",
   "metadata": {},
   "source": [
    "# Transformando os dados Realizados em coluna e adicionando a tabela"
   ]
  },
  {
   "cell_type": "code",
   "execution_count": 120,
   "metadata": {},
   "outputs": [
    {
     "data": {
      "text/html": [
       "<div>\n",
       "<style scoped>\n",
       "    .dataframe tbody tr th:only-of-type {\n",
       "        vertical-align: middle;\n",
       "    }\n",
       "\n",
       "    .dataframe tbody tr th {\n",
       "        vertical-align: top;\n",
       "    }\n",
       "\n",
       "    .dataframe thead th {\n",
       "        text-align: right;\n",
       "    }\n",
       "</style>\n",
       "<table border=\"1\" class=\"dataframe\">\n",
       "  <thead>\n",
       "    <tr style=\"text-align: right;\">\n",
       "      <th></th>\n",
       "      <th>mês</th>\n",
       "      <th>orcado</th>\n",
       "      <th>Realizado</th>\n",
       "    </tr>\n",
       "  </thead>\n",
       "  <tbody>\n",
       "    <tr>\n",
       "      <th>0</th>\n",
       "      <td>janeiro</td>\n",
       "      <td>330</td>\n",
       "      <td>240</td>\n",
       "    </tr>\n",
       "    <tr>\n",
       "      <th>1</th>\n",
       "      <td>fevereiro</td>\n",
       "      <td>290</td>\n",
       "      <td>280</td>\n",
       "    </tr>\n",
       "    <tr>\n",
       "      <th>2</th>\n",
       "      <td>março</td>\n",
       "      <td>230</td>\n",
       "      <td>200</td>\n",
       "    </tr>\n",
       "    <tr>\n",
       "      <th>3</th>\n",
       "      <td>abril</td>\n",
       "      <td>321</td>\n",
       "      <td>310</td>\n",
       "    </tr>\n",
       "    <tr>\n",
       "      <th>4</th>\n",
       "      <td>maio</td>\n",
       "      <td>283</td>\n",
       "      <td>230</td>\n",
       "    </tr>\n",
       "    <tr>\n",
       "      <th>5</th>\n",
       "      <td>junho</td>\n",
       "      <td>291</td>\n",
       "      <td>213</td>\n",
       "    </tr>\n",
       "    <tr>\n",
       "      <th>6</th>\n",
       "      <td>julho</td>\n",
       "      <td>193</td>\n",
       "      <td>239</td>\n",
       "    </tr>\n",
       "    <tr>\n",
       "      <th>7</th>\n",
       "      <td>agosto</td>\n",
       "      <td>259</td>\n",
       "      <td>210</td>\n",
       "    </tr>\n",
       "    <tr>\n",
       "      <th>8</th>\n",
       "      <td>setembro</td>\n",
       "      <td>289</td>\n",
       "      <td>210</td>\n",
       "    </tr>\n",
       "    <tr>\n",
       "      <th>9</th>\n",
       "      <td>outubro</td>\n",
       "      <td>230</td>\n",
       "      <td>210</td>\n",
       "    </tr>\n",
       "    <tr>\n",
       "      <th>10</th>\n",
       "      <td>novembro</td>\n",
       "      <td>434</td>\n",
       "      <td>232</td>\n",
       "    </tr>\n",
       "    <tr>\n",
       "      <th>11</th>\n",
       "      <td>dezembro</td>\n",
       "      <td>421</td>\n",
       "      <td>213</td>\n",
       "    </tr>\n",
       "  </tbody>\n",
       "</table>\n",
       "</div>"
      ],
      "text/plain": [
       "          mês  orcado Realizado\n",
       "0     janeiro     330       240\n",
       "1   fevereiro     290       280\n",
       "2       março     230       200\n",
       "3       abril     321       310\n",
       "4        maio     283       230\n",
       "5       junho     291       213\n",
       "6       julho     193       239\n",
       "7      agosto     259       210\n",
       "8    setembro     289       210\n",
       "9     outubro     230       210\n",
       "10   novembro     434       232\n",
       "11   dezembro     421       213"
      ]
     },
     "execution_count": 120,
     "metadata": {},
     "output_type": "execute_result"
    }
   ],
   "source": [
    "orcado['Realizado'] = realizado.loc['Realizado'].values\n",
    "\n",
    "orcado['Realizado']\n",
    "\n",
    "orcado.head(20)\n",
    "\n"
   ]
  },
  {
   "cell_type": "markdown",
   "metadata": {},
   "source": [
    "# Adicionando a coluna Diferença salvando em csv"
   ]
  },
  {
   "cell_type": "code",
   "execution_count": 121,
   "metadata": {},
   "outputs": [
    {
     "name": "stdout",
     "output_type": "stream",
     "text": [
      "          mês  orcado Realizado Diferença\n",
      "0     janeiro     330       240        90\n",
      "1   fevereiro     290       280        10\n",
      "2       março     230       200        30\n",
      "3       abril     321       310        11\n",
      "4        maio     283       230        53\n",
      "5       junho     291       213        78\n",
      "6       julho     193       239       -46\n",
      "7      agosto     259       210        49\n",
      "8    setembro     289       210        79\n",
      "9     outubro     230       210        20\n",
      "10   novembro     434       232       202\n",
      "11   dezembro     421       213       208\n"
     ]
    }
   ],
   "source": [
    "orcado['Diferença'] = orcado['orcado'].sub(orcado['Realizado'])\n",
    "print(orcado)\n",
    "orcado.to_csv('resultado.csv', index = None)\n"
   ]
  },
  {
   "cell_type": "code",
   "execution_count": 122,
   "metadata": {},
   "outputs": [
    {
     "data": {
      "image/png": "[encoded data removed]",
      "text/plain": [
       "<Figure size 432x288 with 1 Axes>"
      ]
     },
     "metadata": {
      "needs_background": "light"
     },
     "output_type": "display_data"
    }
   ],
   "source": [
    "import matplotlib.pyplot as plt\n",
    "import numpy as np\n",
    "\n",
    "dados = pd.read_csv('resultado.csv', usecols=['mês', 'Realizado', 'Diferença',])\n",
    "\n",
    "\n",
    "x= dados[['mês','Realizado','Diferença']]\n",
    "y= x.set_index('mês')\n",
    "z=y.groupby('mês', sort = False).mean()\n",
    "\n",
    "\n",
    "\n",
    "z.plot.bar(stacked=True)\n",
    "\n",
    "plt.ylabel('$')\n",
    "plt.title('Gráfico Orçamento')\n",
    "plt.legend(('Realizado', 'Orçado'))\n",
    "plt.ylim(0)\n",
    "\n",
    "plt.savefig('resultado.png')\n",
    "plt.show()\n",
    "\n"
   ]
  }
 ],
 "metadata": {
  "kernelspec": {
   "display_name": "Python 3",
   "language": "python",
   "name": "python3"
  },
  "language_info": {
   "codemirror_mode": {
    "name": "ipython",
    "version": 3
   },
   "file_extension": ".py",
   "mimetype": "text/x-python",
   "name": "python",
   "nbconvert_exporter": "python",
   "pygments_lexer": "ipython3",
   "version": "3.7.0"
  }
 },
 "nbformat": 4,
 "nbformat_minor": 2
}
